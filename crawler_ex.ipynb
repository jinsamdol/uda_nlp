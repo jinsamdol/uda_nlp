{
 "cells": [
  {
   "cell_type": "markdown",
   "metadata": {},
   "source": [
    "# Crawling PUBMED toy example\n",
    "\n",
    "## Collecting pmids from abstract list"
   ]
  },
  {
   "cell_type": "code",
   "execution_count": 60,
   "metadata": {
    "scrolled": true
   },
   "outputs": [],
   "source": [
    "import requests\n",
    "\n",
    "# Fetch a web page\n",
    "r = requests.get(\"https://www.ncbi.nlm.nih.gov/pubmed/trending/\")\n"
   ]
  },
  {
   "cell_type": "code",
   "execution_count": 61,
   "metadata": {},
   "outputs": [],
   "source": [
    "from bs4 import BeautifulSoup\n",
    "\n",
    "# Remove HTML tags using Beautiful Soup library\n",
    "soup = BeautifulSoup(r.text, \"html5lib\")\n",
    "#print(soup.get_text())"
   ]
  },
  {
   "cell_type": "code",
   "execution_count": 62,
   "metadata": {
    "scrolled": true
   },
   "outputs": [
    {
     "name": "stdout",
     "output_type": "stream",
     "text": [
      "size:  20\n",
      "<div class=\"rslt\"><p class=\"title\"><a href=\"/pubmed/29785052\" ref=\"ordinalpos=1&amp;ncbi_uid=29785052&amp;link_uid=29785052&amp;linksrc=docsum_title\">Observation of anisotropic magneto-Peltier effect in nickel.</a></p><div class=\"supp\"><p class=\"desc\">Uchida KI, Daimon S, Iguchi R, Saitoh E.</p><p class=\"details\"><span class=\"jrnl\" title=\"Nature\">Nature</span>. 2018 May 21. doi: 10.1038/s41586-018-0143-x. [Epub ahead of print]</p></div><div class=\"aux\"><div class=\"resc\"><dl class=\"rprtid\"><dt>PMID:</dt> <dd>29785052</dd> </dl></div><p class=\"links nohighlight\"><a href=\"/pubmed?linkname=pubmed_pubmed&amp;from_uid=29785052\" ref=\"ordinalpos=1\">Similar articles</a> </p></div></div>\n",
      "------------\n",
      "<div class=\"rslt\"><p class=\"title\"><a href=\"/pubmed/29785878\" ref=\"ordinalpos=2&amp;ncbi_uid=29785878&amp;link_uid=29785878&amp;linksrc=docsum_title\">Five-Year Outcomes with PCI Guided by Fractional Flow Reserve.</a></p><div class=\"supp\"><p class=\"desc\">Xaplanteris P, Fournier S, Pijls NHJ, Fearon WF, Barbato E, Tonino PAL, Engstrøm T, Kääb S, Dambrink JH, Rioufol G, Toth GG, Piroth Z, Witt N, Fröbert O, Kala P, Linke A, Jagic N, Mates M, Mavromatis K, Samady H, Irimpen A, Oldroyd K, Campo G, Rothenbühler M, Jüni P, De Bruyne B; FAME 2 Investigators.</p><p class=\"details\"><span class=\"jrnl\" title=\"The New England journal of medicine\">N Engl J Med</span>. 2018 May 22. doi: 10.1056/NEJMoa1803538. [Epub ahead of print]</p></div><div class=\"aux\"><div class=\"resc\"><dl class=\"rprtid\"><dt>PMID:</dt> <dd>29785878</dd> </dl></div><p class=\"links nohighlight\"><a href=\"/pubmed?linkname=pubmed_pubmed&amp;from_uid=29785878\" ref=\"ordinalpos=2\">Similar articles</a> </p></div></div>\n"
     ]
    }
   ],
   "source": [
    "# Find paper list in the result\n",
    "paper_list = soup.find_all(\"div\", class_=\"rslt\")\n",
    "print(\"size: \", len(paper_list))\n",
    "print(paper_list[0])\n",
    "print(\"------------\")\n",
    "print(paper_list[1])"
   ]
  },
  {
   "cell_type": "code",
   "execution_count": 63,
   "metadata": {},
   "outputs": [
    {
     "name": "stdout",
     "output_type": "stream",
     "text": [
      "extracted hyperlink:  /pubmed/29785052\n",
      "URL to visit:  https://www.ncbi.nlm.nih.gov/pubmed/29785052\n"
     ]
    }
   ],
   "source": [
    "# Extract outlink in the first item in the list\n",
    "tag = paper_list[0].select_one(\"a\")\n",
    "print (\"extracted hyperlink: \", tag.get('href'))\n",
    "link = \"https://www.ncbi.nlm.nih.gov\"+tag.get('href')\n",
    "print (\"URL to visit: \", link)"
   ]
  },
  {
   "cell_type": "markdown",
   "metadata": {},
   "source": [
    "### Requesting the abstract page"
   ]
  },
  {
   "cell_type": "code",
   "execution_count": 64,
   "metadata": {},
   "outputs": [],
   "source": [
    "# Request the abstract page from the parsed hyperlink\n",
    "abstr = requests.get(link)\n",
    "soup_abstr = BeautifulSoup(abstr.text, \"html5lib\")"
   ]
  },
  {
   "cell_type": "markdown",
   "metadata": {},
   "source": [
    "### Parsing the title and abstract texts from the page "
   ]
  },
  {
   "cell_type": "code",
   "execution_count": 65,
   "metadata": {},
   "outputs": [
    {
     "name": "stdout",
     "output_type": "stream",
     "text": [
      "[<h1 class=\"img_logo\"><a class=\"pmlogo offscreen\" href=\"/pubmed\" title=\"PubMed\">PubMed</a></h1>, <h1>Observation of anisotropic magneto-Peltier effect in nickel.</h1>]\n"
     ]
    }
   ],
   "source": [
    "# Extracting HTML texts containing abstract title\n",
    "h1s = soup_abstr.find_all(\"h1\")\n",
    "print (h1s)"
   ]
  },
  {
   "cell_type": "code",
   "execution_count": 66,
   "metadata": {},
   "outputs": [
    {
     "name": "stdout",
     "output_type": "stream",
     "text": [
      "Title:  Observation of anisotropic magneto-Peltier effect in nickel.\n"
     ]
    }
   ],
   "source": [
    "#Parsing abstract title\n",
    "title = str(h1s[1])[4:-5]\n",
    "print (\"Title: \", title)"
   ]
  },
  {
   "cell_type": "code",
   "execution_count": 67,
   "metadata": {},
   "outputs": [
    {
     "name": "stdout",
     "output_type": "stream",
     "text": [
      "[<div class=\"abstr\"><h3>Abstract</h3><div class=\"\"><p>The Peltier effect, discovered in 1834, converts a charge current into a heat current in a conductor, and its performance is described by the Peltier coefficient, which is defined as the ratio of the generated heat current to the applied charge current<sup>1,2</sup>. To exploit the Peltier effect for thermoelectric cooling or heating, junctions of two conductors with different Peltier coefficients have been believed to be indispensable. Here we challenge this conventional wisdom by demonstrating Peltier cooling and heating in a single material without junctions. This is realized through an anisotropic magneto-Peltier effect in which the Peltier coefficient depends on the angle between the directions of a charge current and magnetization in a ferromagnet. By using active thermography techniques<sup>3-10</sup>, we observe the temperature change induced by this effect in a plain nickel slab. We find that the thermoelectric properties of the ferromagnet can be redesigned simply by changing the configurations of the charge current and magnetization, for instance, by shaping the ferromagnet so that the current must flow around a curve. Our experimental results demonstrate the suitability of nickel for the anisotropic magneto-Peltier effect and the importance of spin-orbit interaction in its mechanism. The anisotropic magneto-Peltier effect observed here is the missing thermoelectric phenomenon in ferromagnetic materials-the Onsager reciprocal of the anisotropic magneto-Seebeck effect previously observed in ferromagnets-and its simplicity might prove useful in developing thermal management technologies for electronic and spintronic devices.</p></div></div>]\n"
     ]
    }
   ],
   "source": [
    "#Extracting HTML texts containing abstract text\n",
    "abstr_text = soup_abstr.find_all(\"div\", class_=\"abstr\")\n",
    "print (abstr_text)\n",
    "\n"
   ]
  },
  {
   "cell_type": "code",
   "execution_count": 68,
   "metadata": {},
   "outputs": [
    {
     "name": "stdout",
     "output_type": "stream",
     "text": [
      "Abstract:  The Peltier effect, discovered in 1834, converts a charge current into a heat current in a conductor, and its performance is described by the Peltier coefficient, which is defined as the ratio of the generated heat current to the applied charge current1,2. To exploit the Peltier effect for thermoelectric cooling or heating, junctions of two conductors with different Peltier coefficients have been believed to be indispensable. Here we challenge this conventional wisdom by demonstrating Peltier cooling and heating in a single material without junctions. This is realized through an anisotropic magneto-Peltier effect in which the Peltier coefficient depends on the angle between the directions of a charge current and magnetization in a ferromagnet. By using active thermography techniques3-10, we observe the temperature change induced by this effect in a plain nickel slab. We find that the thermoelectric properties of the ferromagnet can be redesigned simply by changing the configurations of the charge current and magnetization, for instance, by shaping the ferromagnet so that the current must flow around a curve. Our experimental results demonstrate the suitability of nickel for the anisotropic magneto-Peltier effect and the importance of spin-orbit interaction in its mechanism. The anisotropic magneto-Peltier effect observed here is the missing thermoelectric phenomenon in ferromagnetic materials-the Onsager reciprocal of the anisotropic magneto-Seebeck effect previously observed in ferromagnets-and its simplicity might prove useful in developing thermal management technologies for electronic and spintronic devices.\n"
     ]
    }
   ],
   "source": [
    "#Parsing abstract text\n",
    "fin_text = abstr_text[0].select_one(\"p\").get_text().strip()\n",
    "print(\"Abstract: \", fin_text)"
   ]
  },
  {
   "cell_type": "code",
   "execution_count": null,
   "metadata": {},
   "outputs": [],
   "source": []
  }
 ],
 "metadata": {
  "kernelspec": {
   "display_name": "Python 3",
   "language": "python",
   "name": "python3"
  },
  "language_info": {
   "codemirror_mode": {
    "name": "ipython",
    "version": 3
   },
   "file_extension": ".py",
   "mimetype": "text/x-python",
   "name": "python",
   "nbconvert_exporter": "python",
   "pygments_lexer": "ipython3",
   "version": "3.5.5"
  }
 },
 "nbformat": 4,
 "nbformat_minor": 2
}
